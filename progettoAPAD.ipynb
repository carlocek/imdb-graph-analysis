{
 "cells": [
  {
   "attachments": {},
   "cell_type": "markdown",
   "metadata": {},
   "source": [
    "### Creazione grafo\n",
    "nodi totali: 3110737 \\\n",
    "nodi che presentano l'anno: 3110687"
   ]
  },
  {
   "cell_type": "code",
   "execution_count": 5,
   "metadata": {},
   "outputs": [],
   "source": [
    "import networkx as nx\n",
    "import matplotlib.pyplot as plt\n",
    "import pandas as pd\n",
    "import re\n",
    "\n",
    "data = pd.read_csv(\"imdb-actors-actresses-movies.tsv\", sep=\"\\t\")\n",
    "#data = pd.read_csv(\"prova.tsv\", sep=\"\\t\")\n",
    "#print(data)\n",
    "edges_dict = data.to_dict(\"index\")\n",
    "#print(edges_dict)\n",
    "actors = data.get(\"Actor\")\n",
    "actors.drop_duplicates(inplace = True)\n",
    "actors.reset_index(drop = True, inplace = True)\n",
    "id_actor_dict = actors.to_dict()\n",
    "#print(id_actor_dict)\n",
    "actor_id_dict = {v: k for k ,v in id_actor_dict.items()}\n",
    "movies = data.get(\"Movie\")\n",
    "movies.drop_duplicates(inplace = True)\n",
    "movies.reset_index(drop = True, inplace = True)\n",
    "movies.index += len(actors)\n",
    "id_movie_dict = movies.to_dict()\n",
    "#print(id_movie_dict)\n",
    "movie_id_dict = {v: k for k, v in id_movie_dict.items()}"
   ]
  },
  {
   "cell_type": "code",
   "execution_count": 6,
   "metadata": {},
   "outputs": [
    {
     "data": {
      "text/plain": [
       "' print(G.nodes.data())\\nprint(G.edges.data())\\nnx.draw(G) '"
      ]
     },
     "execution_count": 6,
     "metadata": {},
     "output_type": "execute_result"
    }
   ],
   "source": [
    "G = nx.Graph()\n",
    "G.add_nodes_from([(id, {\"name\": a, \"type\": \"actor\"}) for a, id in actor_id_dict.items()])\n",
    "G.add_nodes_from([(id, {\"name\": m, \"type\": \"movie\", \"year\": int(re.search(\"(\\(\\d\\d\\d\\d\\))\", m).group()[1:-1])}) for m, id in movie_id_dict.items() if re.search(\"(\\(\\d\\d\\d\\d\\))\", m)!=None])\n",
    "G.add_edges_from([(actor_id_dict[v[\"Actor\"]], movie_id_dict[v[\"Movie\"]]) for k, v in edges_dict.items() if actor_id_dict[v[\"Actor\"]] in G.nodes and movie_id_dict[v[\"Movie\"]] in G.nodes])\n",
    "\n",
    "\n",
    "\"\"\" print(G.nodes.data())\n",
    "print(G.edges.data())\n",
    "nx.draw(G) \"\"\""
   ]
  },
  {
   "attachments": {},
   "cell_type": "markdown",
   "metadata": {},
   "source": [
    "### Es 1.E\n",
    "Vengono creati 2 dizionari, le cui istanze sono: Nome dell'attore-Chiave e Anno film (minimo o massimo)-Valore.\n",
    "Un ciclo for poi gira su tutti i film che hanno come data di produzione un tempo compreso fra *min_year* e *max_year*, e guarda gli attori che hanno partecipato a tali film. Per tali attori aggiorna il valore nel dizionario se l'anno del film è minore del valore presente nel dizionario o crea la voce se esso non è presente.\n",
    "Il secondo ciclo for fa la stessa cosa però con i tempi massimi.\n",
    "Infine il terzo ciclo calcola i tempi di attività nel periodo *min_year* e *max_year* e trova l'attore che ha lavorato di più."
   ]
  },
  {
   "cell_type": "code",
   "execution_count": null,
   "metadata": {},
   "outputs": [],
   "source": [
    "def esercizio1(max_year):\n",
    "  actor_year_min = {}\n",
    "  actor_year_max = {}\n",
    "\n",
    "  for node in G.nodes().data():\n",
    "    if (node[1][\"type\"] == \"movie\" and node[1][\"year\"] <= max_year):\n",
    "        for l in G.neighbors(node[0]):\n",
    "          if(l not in actor_year_min or node[1][\"year\"] < actor_year_min.get(l)):\n",
    "            actor_year_min.update({l : node[1][\"year\"]})\n",
    "\n",
    "  for node in G.nodes().data():\n",
    "      if (node[1][\"type\"] == \"movie\" and node[1][\"year\"] <= max_year):\n",
    "        for l in G.neighbors(node[0]):\n",
    "          if(l not in actor_year_max or node[1][\"year\"] > actor_year_max.get(l)):\n",
    "            actor_year_max.update({l : node[1][\"year\"]})\n",
    "\n",
    "  max_work_period = 0\n",
    "  actor_max = None\n",
    "  for a in actor_year_min.items():\n",
    "    if max_work_period < (actor_year_max.get(a[0]) - actor_year_min.get(a[0])):\n",
    "      actor_max = a[0]\n",
    "      max_work_period = actor_year_max.get(a[0]) - actor_year_min.get(a[0])\n",
    "  \n",
    "  print(\"L'attore che ha lavorato di più fino al \"+str(max_year)+\" è: \")\n",
    "  print(str(actor_max)+\" con un periodo di attività di: \"+str(max_work_period)+\" anni\")\n",
    "  print()\n",
    "\n",
    "for x in range (1930, 2030, 10):\n",
    "  esercizio1(x)"
   ]
  },
  {
   "attachments": {},
   "cell_type": "markdown",
   "metadata": {},
   "source": [
    "### Es 2.1"
   ]
  },
  {
   "cell_type": "code",
   "execution_count": null,
   "metadata": {},
   "outputs": [],
   "source": [
    "def generateSubGraphGCC(G, xmin, xmax):\n",
    "    SG = G.subgraph([n for n, a in G.nodes().data() if a[\"type\"] == \"actor\" or (a[\"year\"] > xmin and  a[\"year\"] < xmax)])\n",
    "    tempGCC = sorted(nx.connected_components(SG), key=len, reverse=True)[0]\n",
    "    print(\"a\")\n",
    "    GCC = SG.subgraph(tempGCC)\n",
    "    degree_dict = dict(GCC.degree())\n",
    "    m = max(degree_dict.values())\n",
    "    start_node = [k for k, v in degree_dict.items() if v == m][0]\n",
    "    computeDiameter(GCC, start_node)\n",
    "\n",
    "def computeDiameter(G, u):\n",
    "    i = lb = nx.eccentricity(G, u)\n",
    "    ub = 2*lb\n",
    "    Fi = nx.descendants_at_distance(G, u, i)\n",
    "    Bi = max([nx.eccentricity(G, v) for v in Fi]) \n",
    "    while ub > lb: \n",
    "        print(\"b\")\n",
    "        if max([lb, Bi]) > 2*(i - 1):\n",
    "            print(\"diametro: \", max([lb, Bi]))\n",
    "            return max([lb, Bi])\n",
    "        else: \n",
    "            lb = max([lb, Bi])\n",
    "            ub = 2*(i - 1) \n",
    "        i = i - 1 \n",
    "        Fi = nx.descendants_at_distance(G, u, i) \n",
    "        Bi = max([nx.eccentricity(G, v) for v in Fi])\n",
    "\n",
    "    print(\"diametro: \", lb)\n",
    "    return lb\n",
    "\n",
    "for x in range (1930, 2030, 10):\n",
    "    generateSubGraphGCC(G, x, x+10)\n"
   ]
  },
  {
   "attachments": {},
   "cell_type": "markdown",
   "metadata": {},
   "source": [
    "### Es 3.I"
   ]
  },
  {
   "cell_type": "code",
   "execution_count": 23,
   "metadata": {},
   "outputs": [
    {
     "name": "stdout",
     "output_type": "stream",
     "text": [
      "40386\n",
      "Flowers, Bess\n"
     ]
    }
   ],
   "source": [
    "def maxCollab(G):\n",
    "    collaborations = {}\n",
    "    for a in G.nodes().data():\n",
    "        if a[1][\"type\"] == \"actor\":\n",
    "            c = 0\n",
    "            for n in G.adj[a[0]]:\n",
    "                c += (len(G.adj[n])-1)\n",
    "            collaborations.update({a[0]: c})\n",
    "    m = max(list(collaborations.values()))\n",
    "    print(m)\n",
    "    print([k for k, v in collaborations.items() if v == m][0])\n",
    "    \n",
    "maxCollab(G)"
   ]
  },
  {
   "attachments": {},
   "cell_type": "markdown",
   "metadata": {},
   "source": [
    "### Es 4"
   ]
  },
  {
   "cell_type": "code",
   "execution_count": 56,
   "metadata": {},
   "outputs": [],
   "source": [
    "A = nx.Graph()\n",
    "A.add_nodes_from([(a, {\"id\": id}) for a, id in actor_id_dict.items()])\n",
    "#A.add_nodes_from([a for a in G.nodes().data() if a[1][\"bipartite\"] == 0])\n",
    "#A.add_edges_from([(a1, a2) for a1 in A.nodes() for m in G.adj[a1] for a2 in G.adj[m]])\n",
    "\n",
    "#print(A.nodes.data())\n",
    "#print(A.edges.data())\n",
    "#nx.draw(A)"
   ]
  },
  {
   "cell_type": "code",
   "execution_count": null,
   "metadata": {},
   "outputs": [],
   "source": [
    "for k1, v1 in edges_dict.copy().items():\n",
    "    for k2, v2 in edges_dict.copy().items():\n",
    "        if v2[\"Movie\"] == v1[\"Movie\"] and v1[\"Actor\"] != v2[\"Actor\"]:\n",
    "            A.add_edge(v1[\"Actor\"], v2[\"Actor\"])\n",
    "            edges_dict.pop(k2)\n",
    "    edges_dict.pop(k1)\n",
    "\n",
    "    #A.add_edges_from([(v1[\"Actor\"], v2[\"Actor\"]) for k2, v2 in edges_dict.items() if v1[\"Actor\"] != v2[\"Actor\"] and v2[\"Movie\"] == v1[\"Movie\"]])\n",
    "\n",
    "print(A.nodes.data())\n",
    "print(A.edges.data())"
   ]
  },
  {
   "cell_type": "code",
   "execution_count": null,
   "metadata": {},
   "outputs": [],
   "source": [
    "for i in A.nodes:\n",
    "    for j in A.nodes:\n",
    "        try:\n",
    "            if nx.shortest_path_length(G, i, j) == 2:\n",
    "                A.add_edge(i, j)\n",
    "        except:\n",
    "            pass\n",
    "    #A.add_edges_from([(i, j) for j in A.nodes if nx.shortest_path_length(G, i, j) == 2])\n",
    "\n",
    "print(A.nodes.data())\n",
    "print(A.edges.data())"
   ]
  },
  {
   "cell_type": "code",
   "execution_count": 7,
   "metadata": {},
   "outputs": [],
   "source": [
    "from itertools import combinations\n",
    "\n",
    "A = nx.Graph()\n",
    "movie_list = id_movie_dict.keys()\n",
    "for i in movie_list:\n",
    "    if G.has_node(i):\n",
    "        actors = list(G.neighbors(i))\n",
    "        for j in combinations(actors, 2):\n",
    "            if A.has_edge(*j):\n",
    "                A[j[0]][j[1]]['weight'] += 1\n",
    "            else:\n",
    "                A.add_edge(j[0],j[1], weight = 1)\n",
    "\n",
    "#print(A.nodes.data())\n",
    "#print(A.edges.data())\n",
    "\n"
   ]
  },
  {
   "attachments": {},
   "cell_type": "markdown",
   "metadata": {},
   "source": [
    "### celle per prove"
   ]
  },
  {
   "cell_type": "code",
   "execution_count": null,
   "metadata": {},
   "outputs": [],
   "source": [
    "diz = {0: \"a 1900 (2000)\", 1: \"b 1920\"}\n",
    "x = re.search(\"(\\(\\d\\d\\d\\d\\))\", diz[1])\n",
    "for k, v in diz.items():\n",
    "    print(k)\n",
    "    print(v)\n"
   ]
  },
  {
   "cell_type": "code",
   "execution_count": null,
   "metadata": {},
   "outputs": [],
   "source": [
    "print(id_actor_dict[0])\n",
    "print(actor_id_dict[id_actor_dict[0]])"
   ]
  },
  {
   "attachments": {},
   "cell_type": "markdown",
   "metadata": {},
   "source": [
    "### file luca\n",
    "esegue in circa 1 min"
   ]
  },
  {
   "cell_type": "code",
   "execution_count": 65,
   "metadata": {},
   "outputs": [
    {
     "data": {
      "text/plain": [
       "\" n_actors = 0\\nn_movie = 0\\nfor node in G.nodes(data=True):\\n    if node[1]['type'] == 'actor':\\n        n_actors += 1\\n    else:\\n        n_movie += 1\\nprint('actors: ', n_actors)\\nprint('movie: ', n_movie) \""
      ]
     },
     "execution_count": 65,
     "metadata": {},
     "output_type": "execute_result"
    }
   ],
   "source": [
    "\"\"\" G = nx.Graph()\n",
    "f = open(\"imdb-actors-actresses-movies.tsv\")\n",
    "i = 0\n",
    "actors_dict = {}\n",
    "movies_dict = {}\n",
    "r_dictionary = {}\n",
    "\n",
    "for line in f:\n",
    "    x = re.compile('(.+)\\t(.+(?<=\\()(\\d\\d\\d\\d)(?=[/IXV]*\\)).*)')\n",
    "    matched_line = x.match(line)\n",
    "    if matched_line:\n",
    "        actor = matched_line.group(1)\n",
    "        movie = matched_line.group(2)\n",
    "        year = int(matched_line.group(3))\n",
    "        G.add_node(actor, id=i, type='actor')\n",
    "        G.add_node(movie, id=i + 1, type='movie', year=year)\n",
    "        G.add_edge(actor, movie)\n",
    "        actors_dict.update({actor: i})\n",
    "        movies_dict.update({movie: i + 1})\n",
    "    i += 2\n",
    "\n",
    "f.close()\n",
    "n_actors = 0\n",
    "n_movie = 0\n",
    "for node in G.nodes(data=True):\n",
    "    if node[1]['type'] == 'actor':\n",
    "        n_actors += 1\n",
    "    else:\n",
    "        n_movie += 1\n",
    "print('actors: ', n_actors)\n",
    "print('movie: ', n_movie) \"\"\""
   ]
  }
 ],
 "metadata": {
  "kernelspec": {
   "display_name": "Python 3",
   "language": "python",
   "name": "python3"
  },
  "language_info": {
   "codemirror_mode": {
    "name": "ipython",
    "version": 3
   },
   "file_extension": ".py",
   "mimetype": "text/x-python",
   "name": "python",
   "nbconvert_exporter": "python",
   "pygments_lexer": "ipython3",
   "version": "3.10.0"
  },
  "orig_nbformat": 4,
  "vscode": {
   "interpreter": {
    "hash": "9bd63d4d0e53dd854605697514204d0a3a6bfb81f118d4d4374019a86f3401eb"
   }
  }
 },
 "nbformat": 4,
 "nbformat_minor": 2
}
