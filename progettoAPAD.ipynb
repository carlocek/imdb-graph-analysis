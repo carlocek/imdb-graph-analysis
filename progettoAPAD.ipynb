{
 "cells": [
  {
   "attachments": {},
   "cell_type": "markdown",
   "metadata": {},
   "source": [
    "### Creazione grafo\n",
    "nodi totali: 3110737 \\\n",
    "nodi che presentano l'anno: 3110687"
   ]
  },
  {
   "cell_type": "code",
   "execution_count": 11,
   "metadata": {},
   "outputs": [
    {
     "name": "stdout",
     "output_type": "stream",
     "text": [
      "{0: {'Actor': 'Bryning, John', 'Movie': 'Rembrandt (1936)'}, 1: {'Actor': 'Bryning, John', 'Movie': 'The Amazing Dr. Clitterhouse (1947) (TV)'}, 2: {'Actor': 'Bryning, John', 'Movie': 'The Rose Without a Thorn (1947) (TV)'}, 3: {'Actor': 'Brynjarsson, Reynir Gar?ar', 'Movie': 'Hrafninn fl?gur (1984)'}, 4: {'Actor': 'Brynjarsson, Steinarr', 'Movie': 'Br?t?l M?rk (2013)'}, 5: {'Actor': 'Brynjolfsson, Ingvar', 'Movie': 'Nj?lssaga (2003) (TV)'}, 6: {'Actor': 'Brynjulfsen, Erik', 'Movie': 'Varg Veum - Bitre blomster (2007)'}, 7: {'Actor': 'Brynjulfsen, Jan Olav', 'Movie': 'S?lvmunn (1981)'}, 8: {'Actor': 'Brynjulfsen, Jan Olav', 'Movie': 'Rembrandt (1936)'}}\n"
     ]
    }
   ],
   "source": [
    "import networkx as nx\n",
    "import matplotlib.pyplot as plt\n",
    "import pandas as pd\n",
    "import re\n",
    "\n",
    "#data = pd.read_csv(\"imdb-actors-actresses-movies.tsv\", sep=\"\\t\")\n",
    "data = pd.read_csv(\"prova.tsv\", sep=\"\\t\")\n",
    "#print(data)\n",
    "edges_dict = data.to_dict(\"index\")\n",
    "print(edges_dict)\n",
    "actors = data.get(\"Actor\")\n",
    "actors.drop_duplicates(inplace = True)\n",
    "actors.reset_index(drop = True, inplace = True)\n",
    "id_actor_dict = actors.to_dict()\n",
    "#print(id_actor_dict)\n",
    "actor_id_dict = {v: k for k ,v in id_actor_dict.items()}\n",
    "movies = data.get(\"Movie\")\n",
    "movies.drop_duplicates(inplace = True)\n",
    "movies.reset_index(drop = True, inplace = True)\n",
    "movies.index += len(actors)\n",
    "id_movie_dict = movies.to_dict()\n",
    "#print(id_movie_dict)\n",
    "movie_id_dict = {v: k for k, v in id_movie_dict.items()}"
   ]
  },
  {
   "cell_type": "code",
   "execution_count": 12,
   "metadata": {},
   "outputs": [
    {
     "name": "stdout",
     "output_type": "stream",
     "text": [
      "14\n",
      "[('Bryning, John', {'id': 0, 'bipartite': 0}), ('Brynjarsson, Reynir Gar?ar', {'id': 1, 'bipartite': 0}), ('Brynjarsson, Steinarr', {'id': 2, 'bipartite': 0}), ('Brynjolfsson, Ingvar', {'id': 3, 'bipartite': 0}), ('Brynjulfsen, Erik', {'id': 4, 'bipartite': 0}), ('Brynjulfsen, Jan Olav', {'id': 5, 'bipartite': 0}), ('Rembrandt (1936)', {'id': 6, 'bipartite': 1, 'year': 1936}), ('The Amazing Dr. Clitterhouse (1947) (TV)', {'id': 7, 'bipartite': 1, 'year': 1947}), ('The Rose Without a Thorn (1947) (TV)', {'id': 8, 'bipartite': 1, 'year': 1947}), ('Hrafninn fl?gur (1984)', {'id': 9, 'bipartite': 1, 'year': 1984}), ('Br?t?l M?rk (2013)', {'id': 10, 'bipartite': 1, 'year': 2013}), ('Nj?lssaga (2003) (TV)', {'id': 11, 'bipartite': 1, 'year': 2003}), ('Varg Veum - Bitre blomster (2007)', {'id': 12, 'bipartite': 1, 'year': 2007}), ('S?lvmunn (1981)', {'id': 13, 'bipartite': 1, 'year': 1981})]\n",
      "[('Bryning, John', 'Rembrandt (1936)', {}), ('Bryning, John', 'The Amazing Dr. Clitterhouse (1947) (TV)', {}), ('Bryning, John', 'The Rose Without a Thorn (1947) (TV)', {}), ('Brynjarsson, Reynir Gar?ar', 'Hrafninn fl?gur (1984)', {}), ('Brynjarsson, Steinarr', 'Br?t?l M?rk (2013)', {}), ('Brynjolfsson, Ingvar', 'Nj?lssaga (2003) (TV)', {}), ('Brynjulfsen, Erik', 'Varg Veum - Bitre blomster (2007)', {}), ('Brynjulfsen, Jan Olav', 'S?lvmunn (1981)', {}), ('Brynjulfsen, Jan Olav', 'Rembrandt (1936)', {})]\n",
      "Bryning, John\n",
      "Brynjulfsen, Jan Olav\n"
     ]
    },
    {
     "data": {
      "text/plain": [
       "2"
      ]
     },
     "execution_count": 12,
     "metadata": {},
     "output_type": "execute_result"
    },
    {
     "data": {
      "image/png": "[encoded data removed]",
      "text/plain": [
       "<Figure size 640x480 with 1 Axes>"
      ]
     },
     "metadata": {},
     "output_type": "display_data"
    }
   ],
   "source": [
    "G = nx.Graph()\n",
    "G.add_nodes_from([(a, {\"id\": id, \"bipartite\": 0}) for a, id in actor_id_dict.items()])\n",
    "G.add_nodes_from([(m, {\"id\": id, \"bipartite\": 1, \"year\": int(re.search(\"(\\(\\d\\d\\d\\d\\))\", m).group()[1:-1])}) for m, id in movie_id_dict.items() if re.search(\"(\\(\\d\\d\\d\\d\\))\", m)!=None])\n",
    "G.add_edges_from([(v[\"Actor\"], v[\"Movie\"]) for k, v in edges_dict.items() if v[\"Actor\"] in G.nodes and v[\"Movie\"] in G.nodes])\n",
    "\n",
    "#controllo il numero di nodi totali creati\n",
    "sum = 0\n",
    "for i in G.nodes:\n",
    "    sum += 1\n",
    "print(sum)\n",
    "\n",
    "print(G.nodes.data())\n",
    "print(G.edges.data())\n",
    "nx.draw(G)\n",
    "print(list(G.nodes)[0])\n",
    "print(list(G.nodes)[5])\n",
    "nx.shortest_path_length(G, list(G.nodes)[0], list(G.nodes)[5])"
   ]
  },
  {
   "attachments": {},
   "cell_type": "markdown",
   "metadata": {},
   "source": [
    "### Es 3.I"
   ]
  },
  {
   "cell_type": "code",
   "execution_count": null,
   "metadata": {},
   "outputs": [],
   "source": [
    "for a in G.nodes().data():\n",
    "    print(a[1][\"bipartite\"])\n"
   ]
  },
  {
   "cell_type": "code",
   "execution_count": 30,
   "metadata": {},
   "outputs": [
    {
     "name": "stdout",
     "output_type": "stream",
     "text": [
      "Rembrandt (1936)\n",
      "The Amazing Dr. Clitterhouse (1947) (TV)\n",
      "The Rose Without a Thorn (1947) (TV)\n"
     ]
    }
   ],
   "source": [
    "for n in G.adj[id_actor_dict[0]]:\n",
    "    print(n)"
   ]
  },
  {
   "cell_type": "code",
   "execution_count": 37,
   "metadata": {},
   "outputs": [
    {
     "name": "stdout",
     "output_type": "stream",
     "text": [
      "224140834\n",
      "??r?lfsd?ttir, Krist?n\n"
     ]
    }
   ],
   "source": [
    "def maxCollab(G):\n",
    "    collaborations = {}\n",
    "    c = 0\n",
    "    for a in G.nodes().data():\n",
    "        if a[1][\"bipartite\"] == 0:\n",
    "            for n in G.adj[a[0]]:\n",
    "                c += (len(G.adj[n])-1)\n",
    "            collaborations.update({a[0]: c})\n",
    "    m = max(list(collaborations.values()))\n",
    "    print(m)\n",
    "    print([k for k, v in collaborations.items() if v == m][0])\n",
    "    \n",
    "maxCollab(G)"
   ]
  },
  {
   "attachments": {},
   "cell_type": "markdown",
   "metadata": {},
   "source": [
    "### Es 4"
   ]
  },
  {
   "cell_type": "code",
   "execution_count": null,
   "metadata": {},
   "outputs": [],
   "source": [
    "for a1 in G.nodes():\n",
    "    print(a1)"
   ]
  },
  {
   "cell_type": "code",
   "execution_count": 56,
   "metadata": {},
   "outputs": [],
   "source": [
    "A = nx.Graph()\n",
    "A.add_nodes_from([(a, {\"id\": id}) for a, id in actor_id_dict.items()])\n",
    "#A.add_nodes_from([a for a in G.nodes().data() if a[1][\"bipartite\"] == 0])\n",
    "#A.add_edges_from([(a1, a2) for a1 in A.nodes() for m in G.adj[a1] for a2 in G.adj[m]])\n",
    "\n",
    "#print(A.nodes.data())\n",
    "#print(A.edges.data())\n",
    "#nx.draw(A)"
   ]
  },
  {
   "cell_type": "code",
   "execution_count": 50,
   "metadata": {},
   "outputs": [
    {
     "name": "stdout",
     "output_type": "stream",
     "text": [
      "(0, {'Actor': 'Bryning, John', 'Movie': 'Rembrandt (1936)'})\n"
     ]
    }
   ],
   "source": [
    "it = iter(edges_dict.items())\n",
    "print(next(it))"
   ]
  },
  {
   "cell_type": "code",
   "execution_count": 53,
   "metadata": {},
   "outputs": [
    {
     "name": "stdout",
     "output_type": "stream",
     "text": [
      "[('Bryning, John', {'id': 0}), ('Brynjarsson, Reynir Gar?ar', {'id': 1}), ('Brynjarsson, Steinarr', {'id': 2}), ('Brynjolfsson, Ingvar', {'id': 3}), ('Brynjulfsen, Erik', {'id': 4}), ('Brynjulfsen, Jan Olav', {'id': 5})]\n",
      "[('Bryning, John', 'Brynjulfsen, Jan Olav', {})]\n"
     ]
    }
   ],
   "source": [
    "for k1, v1 in edges_dict.copy().items():\n",
    "    for k2, v2 in edges_dict.copy().items():\n",
    "        if v2[\"Movie\"] == v1[\"Movie\"] and v1[\"Actor\"] != v2[\"Actor\"]:\n",
    "            A.add_edge(v1[\"Actor\"], v2[\"Actor\"])\n",
    "            edges_dict.pop(k2)\n",
    "    edges_dict.pop(k1)\n",
    "\n",
    "    #A.add_edges_from([(v1[\"Actor\"], v2[\"Actor\"]) for k2, v2 in edges_dict.items() if v1[\"Actor\"] != v2[\"Actor\"] and v2[\"Movie\"] == v1[\"Movie\"]])\n",
    "\n",
    "print(A.nodes.data())\n",
    "print(A.edges.data())"
   ]
  },
  {
   "cell_type": "code",
   "execution_count": 60,
   "metadata": {},
   "outputs": [
    {
     "name": "stdout",
     "output_type": "stream",
     "text": [
      "[('Bryning, John', {'id': 0}), ('Brynjarsson, Reynir Gar?ar', {'id': 1}), ('Brynjarsson, Steinarr', {'id': 2}), ('Brynjolfsson, Ingvar', {'id': 3}), ('Brynjulfsen, Erik', {'id': 4}), ('Brynjulfsen, Jan Olav', {'id': 5})]\n",
      "[('Bryning, John', 'Brynjulfsen, Jan Olav', {})]\n"
     ]
    }
   ],
   "source": [
    "for i in A.nodes:\n",
    "    for j in A.nodes:\n",
    "        try:\n",
    "            if nx.shortest_path_length(G, i, j) == 2:\n",
    "                A.add_edge(i, j)\n",
    "        except:\n",
    "            pass\n",
    "    #A.add_edges_from([(i, j) for j in A.nodes if nx.shortest_path_length(G, i, j) == 2])\n",
    "\n",
    "print(A.nodes.data())\n",
    "print(A.edges.data())"
   ]
  },
  {
   "attachments": {},
   "cell_type": "markdown",
   "metadata": {},
   "source": [
    "### celle per prove"
   ]
  },
  {
   "cell_type": "code",
   "execution_count": 10,
   "metadata": {},
   "outputs": [
    {
     "name": "stdout",
     "output_type": "stream",
     "text": [
      "2000\n"
     ]
    }
   ],
   "source": [
    "diz = {0: \"a 1900 (2000)\", 1: \"b (2004)\"}\n",
    "x = re.search(\"(\\(\\d\\d\\d\\d\\))\", diz[0]).group()\n",
    "print(int(x[1:-1]))\n"
   ]
  },
  {
   "cell_type": "code",
   "execution_count": 38,
   "metadata": {},
   "outputs": [
    {
     "name": "stdout",
     "output_type": "stream",
     "text": [
      "Bryning, John\n",
      "0\n"
     ]
    }
   ],
   "source": [
    "print(id_actor_dict[0])\n",
    "print(actor_id_dict[id_actor_dict[0]])"
   ]
  },
  {
   "attachments": {},
   "cell_type": "markdown",
   "metadata": {},
   "source": [
    "### file luca\n",
    "esegue in circa 1 min"
   ]
  },
  {
   "cell_type": "code",
   "execution_count": 65,
   "metadata": {},
   "outputs": [
    {
     "data": {
      "text/plain": [
       "\" n_actors = 0\\nn_movie = 0\\nfor node in G.nodes(data=True):\\n    if node[1]['type'] == 'actor':\\n        n_actors += 1\\n    else:\\n        n_movie += 1\\nprint('actors: ', n_actors)\\nprint('movie: ', n_movie) \""
      ]
     },
     "execution_count": 65,
     "metadata": {},
     "output_type": "execute_result"
    }
   ],
   "source": [
    "\"\"\" G = nx.Graph()\n",
    "f = open(\"imdb-actors-actresses-movies.tsv\")\n",
    "i = 0\n",
    "actors_dict = {}\n",
    "movies_dict = {}\n",
    "r_dictionary = {}\n",
    "\n",
    "for line in f:\n",
    "    x = re.compile('(.+)\\t(.+(?<=\\()(\\d\\d\\d\\d)(?=[/IXV]*\\)).*)')\n",
    "    matched_line = x.match(line)\n",
    "    if matched_line:\n",
    "        actor = matched_line.group(1)\n",
    "        movie = matched_line.group(2)\n",
    "        year = int(matched_line.group(3))\n",
    "        G.add_node(actor, id=i, type='actor')\n",
    "        G.add_node(movie, id=i + 1, type='movie', year=year)\n",
    "        G.add_edge(actor, movie)\n",
    "        actors_dict.update({actor: i})\n",
    "        movies_dict.update({movie: i + 1})\n",
    "    i += 2\n",
    "\n",
    "f.close()\n",
    "n_actors = 0\n",
    "n_movie = 0\n",
    "for node in G.nodes(data=True):\n",
    "    if node[1]['type'] == 'actor':\n",
    "        n_actors += 1\n",
    "    else:\n",
    "        n_movie += 1\n",
    "print('actors: ', n_actors)\n",
    "print('movie: ', n_movie) \"\"\""
   ]
  }
 ],
 "metadata": {
  "kernelspec": {
   "display_name": "Python 3",
   "language": "python",
   "name": "python3"
  },
  "language_info": {
   "codemirror_mode": {
    "name": "ipython",
    "version": 3
   },
   "file_extension": ".py",
   "mimetype": "text/x-python",
   "name": "python",
   "nbconvert_exporter": "python",
   "pygments_lexer": "ipython3",
   "version": "3.10.0"
  },
  "orig_nbformat": 4,
  "vscode": {
   "interpreter": {
    "hash": "9bd63d4d0e53dd854605697514204d0a3a6bfb81f118d4d4374019a86f3401eb"
   }
  }
 },
 "nbformat": 4,
 "nbformat_minor": 2
}
