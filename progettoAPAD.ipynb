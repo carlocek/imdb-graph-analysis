{
 "cells": [
  {
   "attachments": {},
   "cell_type": "markdown",
   "metadata": {},
   "source": [
    "### Creazione grafo\n",
    "nodi totali: 3110737 \\\n",
    "nodi che presentano l'anno: 3110687"
   ]
  },
  {
   "cell_type": "code",
   "execution_count": 34,
   "metadata": {},
   "outputs": [],
   "source": [
    "import networkx as nx\n",
    "import matplotlib.pyplot as plt\n",
    "import pandas as pd\n",
    "import re\n",
    "\n",
    "data = pd.read_csv(\"imdb-actors-actresses-movies.tsv\", sep=\"\\t\")\n",
    "#data = pd.read_csv(\"prova.tsv\", sep=\"\\t\")\n",
    "#print(data)\n",
    "edges_dict = data.to_dict(\"index\")\n",
    "#print(edges_dict)\n",
    "actors = data.get(\"Actor\")\n",
    "actors.drop_duplicates(inplace = True)\n",
    "actors.reset_index(drop = True, inplace = True)\n",
    "id_actor_dict = actors.to_dict()\n",
    "#print(id_actor_dict)\n",
    "actor_id_dict = {v: k for k ,v in id_actor_dict.items()}\n",
    "movies = data.get(\"Movie\")\n",
    "movies.drop_duplicates(inplace = True)\n",
    "movies.reset_index(drop = True, inplace = True)\n",
    "movies.index += len(actors)\n",
    "id_movie_dict = movies.to_dict()\n",
    "#print(id_movie_dict)\n",
    "movie_id_dict = {v: k for k, v in id_movie_dict.items()}"
   ]
  },
  {
   "cell_type": "code",
   "execution_count": 35,
   "metadata": {},
   "outputs": [
    {
     "name": "stdout",
     "output_type": "stream",
     "text": [
      "3110687\n"
     ]
    }
   ],
   "source": [
    "G = nx.Graph()\n",
    "G.add_nodes_from([(a, {\"id\": id, \"bipartite\": 0}) for id, a in id_actor_dict.items()])\n",
    "G.add_nodes_from([(m, {\"id\": id, \"bipartite\": 1, \"year\": int(re.search(\"(\\d\\d\\d\\d)\", m).group())}) for id, m in id_movie_dict.items() if re.search(\"(\\d\\d\\d\\d)\", m)!=None])\n",
    "G.add_edges_from([(v[\"Actor\"], v[\"Movie\"]) for k, v in edges_dict.items() if v[\"Actor\"] in G.nodes and v[\"Movie\"] in G.nodes])\n",
    "\n",
    "#controllo il numero di nodi totali creati\n",
    "sum = 0\n",
    "for i in G.nodes:\n",
    "    sum += 1\n",
    "print(sum)\n",
    "\n",
    "#print(G.nodes.data())\n",
    "#print(G.edges.data())\n",
    "#nx.draw(G)"
   ]
  },
  {
   "attachments": {},
   "cell_type": "markdown",
   "metadata": {},
   "source": [
    "### Es 3.I"
   ]
  },
  {
   "cell_type": "code",
   "execution_count": 37,
   "metadata": {},
   "outputs": [
    {
     "name": "stdout",
     "output_type": "stream",
     "text": [
      "224140834\n",
      "??r?lfsd?ttir, Krist?n\n"
     ]
    }
   ],
   "source": [
    "def maxCollab(G):\n",
    "    collaborations = {}\n",
    "    c = 0\n",
    "    for a in G.nodes().data():\n",
    "        if a[1][\"bipartite\"] == 0:\n",
    "            for n in G.adj[a[0]]:\n",
    "                c += (len(G.adj[n])-1)\n",
    "            collaborations.update({a[0]: c})\n",
    "    m = max(list(collaborations.values()))\n",
    "    print(m)\n",
    "    print([k for k, v in collaborations.items() if v == m][0])\n",
    "    \n",
    "maxCollab(G)"
   ]
  },
  {
   "attachments": {},
   "cell_type": "markdown",
   "metadata": {},
   "source": [
    "### celle per prove"
   ]
  },
  {
   "cell_type": "code",
   "execution_count": 4,
   "metadata": {},
   "outputs": [
    {
     "name": "stdout",
     "output_type": "stream",
     "text": [
      "2000\n"
     ]
    }
   ],
   "source": [
    "diz = {0: \"a (II) (2000)\", 1: \"b (2004)\"}\n",
    "x = re.search(\"(\\d\\d\\d\\d)\", diz[0]).group()\n",
    "print(int(x))\n"
   ]
  },
  {
   "cell_type": "code",
   "execution_count": 38,
   "metadata": {},
   "outputs": [
    {
     "name": "stdout",
     "output_type": "stream",
     "text": [
      "Bryning, John\n",
      "0\n"
     ]
    }
   ],
   "source": [
    "print(id_actor_dict[0])\n",
    "print(actor_id_dict[id_actor_dict[0]])"
   ]
  },
  {
   "attachments": {},
   "cell_type": "markdown",
   "metadata": {},
   "source": [
    "### file luca\n",
    "esegue in circa 1 min"
   ]
  },
  {
   "cell_type": "code",
   "execution_count": 65,
   "metadata": {},
   "outputs": [
    {
     "data": {
      "text/plain": [
       "\" n_actors = 0\\nn_movie = 0\\nfor node in G.nodes(data=True):\\n    if node[1]['type'] == 'actor':\\n        n_actors += 1\\n    else:\\n        n_movie += 1\\nprint('actors: ', n_actors)\\nprint('movie: ', n_movie) \""
      ]
     },
     "execution_count": 65,
     "metadata": {},
     "output_type": "execute_result"
    }
   ],
   "source": [
    "G = nx.Graph()\n",
    "f = open(\"imdb-actors-actresses-movies.tsv\")\n",
    "i = 0\n",
    "actors_dict = {}\n",
    "movies_dict = {}\n",
    "r_dictionary = {}\n",
    "\n",
    "for line in f:\n",
    "    x = re.compile('(.+)\\t(.+(?<=\\()(\\d\\d\\d\\d)(?=[/IXV]*\\)).*)')\n",
    "    matched_line = x.match(line)\n",
    "    if matched_line:\n",
    "        actor = matched_line.group(1)\n",
    "        movie = matched_line.group(2)\n",
    "        year = int(matched_line.group(3))\n",
    "        G.add_node(actor, id=i, type='actor')\n",
    "        G.add_node(movie, id=i + 1, type='movie', year=year)\n",
    "        G.add_edge(actor, movie)\n",
    "        actors_dict.update({actor: i})\n",
    "        movies_dict.update({movie: i + 1})\n",
    "    i += 2\n",
    "\n",
    "f.close()\n",
    "n_actors = 0\n",
    "n_movie = 0\n",
    "for node in G.nodes(data=True):\n",
    "    if node[1]['type'] == 'actor':\n",
    "        n_actors += 1\n",
    "    else:\n",
    "        n_movie += 1\n",
    "print('actors: ', n_actors)\n",
    "print('movie: ', n_movie)"
   ]
  }
 ],
 "metadata": {
  "kernelspec": {
   "display_name": "Python 3",
   "language": "python",
   "name": "python3"
  },
  "language_info": {
   "codemirror_mode": {
    "name": "ipython",
    "version": 3
   },
   "file_extension": ".py",
   "mimetype": "text/x-python",
   "name": "python",
   "nbconvert_exporter": "python",
   "pygments_lexer": "ipython3",
   "version": "3.10.0"
  },
  "orig_nbformat": 4,
  "vscode": {
   "interpreter": {
    "hash": "9bd63d4d0e53dd854605697514204d0a3a6bfb81f118d4d4374019a86f3401eb"
   }
  }
 },
 "nbformat": 4,
 "nbformat_minor": 2
}
