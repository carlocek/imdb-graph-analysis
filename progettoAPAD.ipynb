{
 "cells": [
  {
   "cell_type": "code",
   "execution_count": 9,
   "metadata": {},
   "outputs": [
    {
     "name": "stdout",
     "output_type": "stream",
     "text": [
      "{0: 'Bryning, John', 1: 'Brynjarsson, Reynir Gar?ar', 2: 'Brynjarsson, Steinarr', 3: 'Brynjolfsson, Ingvar', 4: 'Brynjulfsen, Erik', 5: 'Brynjulfsen, Jan Olav'}\n",
      "{6: 'Rembrandt (1936)', 7: 'The Amazing Dr. Clitterhouse (1947) (TV)', 8: 'The Rose Without a Thorn (1947) (TV)', 9: 'Hrafninn fl?gur (1984)', 10: 'Br?t?l M?rk (2013)', 11: 'Nj?lssaga (2003) (TV)', 12: 'Varg Veum - Bitre blomster (2007)', 13: 'S?lvmunn (1981)'}\n"
     ]
    }
   ],
   "source": [
    "import networkx as nx\n",
    "import matplotlib.pyplot as plt\n",
    "import pandas as pd\n",
    "\n",
    "#data = pd.read_csv(\"imdb-actors-actresses-movies.tsv\", sep=\"\\t\")\n",
    "data = pd.read_csv(\"prova.tsv\", sep=\"\\t\")\n",
    "actors = data.get(\"Actor\")\n",
    "actors.drop_duplicates(inplace = True)\n",
    "actors.reset_index(drop = True, inplace = True)\n",
    "id_actor_dict = actors.to_dict()\n",
    "print(id_actor_dict)\n",
    "actor_id_dict = {v: k for k, v in id_actor_dict.items()}\n",
    "movies = data.get(\"Movie\")\n",
    "movies.drop_duplicates(inplace = True)\n",
    "movies.reset_index(drop = True, inplace = True)\n",
    "movies.index += len(actors)\n",
    "id_movie_dict = movies.to_dict()\n",
    "print(id_movie_dict)\n",
    "movie_id_dict = {v: k for k, v in id_movie_dict.items()}"
   ]
  },
  {
   "cell_type": "code",
   "execution_count": 12,
   "metadata": {},
   "outputs": [
    {
     "name": "stdout",
     "output_type": "stream",
     "text": [
      "[(0, {'actor': 'Bryning, John', 'bipartite': 0}), (1, {'actor': 'Brynjarsson, Reynir Gar?ar', 'bipartite': 0}), (2, {'actor': 'Brynjarsson, Steinarr', 'bipartite': 0}), (3, {'actor': 'Brynjolfsson, Ingvar', 'bipartite': 0}), (4, {'actor': 'Brynjulfsen, Erik', 'bipartite': 0}), (5, {'actor': 'Brynjulfsen, Jan Olav', 'bipartite': 0}), (6, {'movie': 'Rembrandt (1936)', 'year': 1936, 'bipartite': 1}), (7, {'movie': 'The Amazing Dr. Clitterhouse (1947) (TV)', 'year': 1947, 'bipartite': 1}), (8, {'movie': 'The Rose Without a Thorn (1947) (TV)', 'year': 1947, 'bipartite': 1}), (9, {'movie': 'Hrafninn fl?gur (1984)', 'year': 1984, 'bipartite': 1}), (10, {'movie': 'Br?t?l M?rk (2013)', 'year': 2013, 'bipartite': 1}), (11, {'movie': 'Nj?lssaga (2003) (TV)', 'year': 2003, 'bipartite': 1}), (12, {'movie': 'Varg Veum - Bitre blomster (2007)', 'year': 2007, 'bipartite': 1}), (13, {'movie': 'S?lvmunn (1981)', 'year': 1981, 'bipartite': 1})]\n"
     ]
    },
    {
     "data": {
      "image/png": "[encoded data removed]",
      "text/plain": [
       "<Figure size 640x480 with 1 Axes>"
      ]
     },
     "metadata": {},
     "output_type": "display_data"
    }
   ],
   "source": [
    "G = nx.Graph()\n",
    "\n",
    "#se voglio che i nodi siano degli interi ed ognuno ha un attributo \"actor\" -> meglio\n",
    "#G.add_nodes_from([(list(id_actor_dict.keys())[i], {\"actor\":id_actor_dict[i]}) for i in range(6)])\n",
    "G.add_nodes_from([(id, {\"actor\": a, \"bipartite\": 0}) for id, a in id_actor_dict.items()])\n",
    "\n",
    "#se voglio che i nodi siano delle tuple (id, actor) -> peggio\n",
    "#G.add_nodes_from(id_actor_dict.items())\n",
    "\n",
    "#G.add_nodes_from(id_movie_dict, movie=id_movie_dict[next(i for i in range(len(actors), len(actors)+len(movies)))], bipartite=1)\n",
    "G.add_nodes_from([(id, {\"movie\": m, \"year\": int(m[m.index(\"(\")+1:m.index(\"(\")+5]), \"bipartite\": 1}) for id, m in id_movie_dict.items()])\n",
    "print(G.nodes.data())\n",
    "nx.draw(G)"
   ]
  },
  {
   "attachments": {},
   "cell_type": "markdown",
   "metadata": {},
   "source": [
    "# cella per prove"
   ]
  },
  {
   "cell_type": "code",
   "execution_count": 6,
   "metadata": {},
   "outputs": [
    {
     "data": {
      "text/plain": [
       "'(2000)'"
      ]
     },
     "execution_count": 6,
     "metadata": {},
     "output_type": "execute_result"
    }
   ],
   "source": [
    "diz = {0: \"a (2000)\", 1: \"b (2004)\"}\n",
    "i = diz[0].index(\"(\")\n",
    "diz[0][i:i+6]\n"
   ]
  }
 ],
 "metadata": {
  "kernelspec": {
   "display_name": "Python 3",
   "language": "python",
   "name": "python3"
  },
  "language_info": {
   "codemirror_mode": {
    "name": "ipython",
    "version": 3
   },
   "file_extension": ".py",
   "mimetype": "text/x-python",
   "name": "python",
   "nbconvert_exporter": "python",
   "pygments_lexer": "ipython3",
   "version": "3.10.0"
  },
  "orig_nbformat": 4,
  "vscode": {
   "interpreter": {
    "hash": "9bd63d4d0e53dd854605697514204d0a3a6bfb81f118d4d4374019a86f3401eb"
   }
  }
 },
 "nbformat": 4,
 "nbformat_minor": 2
}
