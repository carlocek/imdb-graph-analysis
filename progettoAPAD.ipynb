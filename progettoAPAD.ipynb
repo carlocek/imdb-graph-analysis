{
 "cells": [
  {
   "attachments": {},
   "cell_type": "markdown",
   "metadata": {},
   "source": [
    "### Creazione grafo\n",
    "nodi totali: 3110737 \\\n",
    "nodi che presentano l'anno: 3110687"
   ]
  },
  {
   "cell_type": "code",
   "execution_count": null,
   "metadata": {},
   "outputs": [],
   "source": [
    "import networkx as nx\n",
    "import pandas as pd\n",
    "import re\n",
    "from queue import Queue\n",
    "from collections import defaultdict\n",
    "from itertools import combinations\n",
    "\n",
    "#data = pd.read_csv(\"imdb-actors-actresses-movies.tsv\", sep=\"\\t\")\n",
    "data = pd.read_csv(\"prova.tsv\", sep=\"\\t\")\n",
    "edgesDict = data.to_dict(\"index\")\n",
    "idActorDict = dict(enumerate(data[\"Actor\"].unique()))\n",
    "actorIdDict = {v: k for k ,v in idActorDict.items()}\n",
    "idMovieDict = dict(enumerate(data[\"Movie\"].unique(), start=len(idActorDict)))\n",
    "movieIdDict = {v: k for k, v in idMovieDict.items()}\n",
    "\n",
    "def getYear(movieString):\n",
    "    match = re.search(\".*\\(.*(\\d\\d\\d\\d).*\\)\", movieString)\n",
    "    if match is None:\n",
    "        year = \"Not found\"\n",
    "    else:\n",
    "        yearString = match.group(1)\n",
    "        year = int(yearString)\n",
    "    return movieString, year\n",
    "\n",
    "movieYearDict= dict(map(getYear,data[\"Movie\"].unique()))"
   ]
  },
  {
   "cell_type": "code",
   "execution_count": 2,
   "metadata": {},
   "outputs": [],
   "source": [
    "G = nx.Graph()\n",
    "G.add_nodes_from([(id, {\"name\": a, \"type\": 0}) for id, a in idActorDict.items()])\n",
    "G.add_nodes_from([(id, {\"name\": m, \"type\": 1, \"year\": movieYearDict[m]}) for id, m in idMovieDict.items()])\n",
    "G.add_edges_from([(actorIdDict[v[\"Actor\"]], movieIdDict[v[\"Movie\"]]) for k, v in edgesDict.items()])"
   ]
  },
  {
   "attachments": {},
   "cell_type": "markdown",
   "metadata": {},
   "source": [
    "### Es 1.E\n",
    "Vengono creati 2 dizionari, le cui istanze sono: Nome dell'attore-Chiave e Anno film (minimo o massimo)-Valore.\n",
    "Un ciclo for poi gira su tutti i film che hanno come data di produzione un tempo compreso fra *min_year* e *maxYear*, e guarda gli attori che hanno partecipato a tali film. Per tali attori aggiorna il valore nel dizionario se l'anno del film è minore del valore presente nel dizionario o crea la voce se esso non è presente.\n",
    "Il secondo ciclo for fa la stessa cosa però con i tempi massimi.\n",
    "Infine il terzo ciclo calcola i tempi di attività nel periodo *min_year* e *maxYear* e trova l'attore che ha lavorato di più."
   ]
  },
  {
   "cell_type": "code",
   "execution_count": null,
   "metadata": {},
   "outputs": [],
   "source": [
    "def computeLongevousActor(maxYear):\n",
    "  actorMinYearDict = {}\n",
    "  actorMaxYearDict = {}\n",
    "  for node in G.nodes().data():\n",
    "      if (node[1][\"type\"] == 1 and node[1][\"year\"] != \"Not found\" and node[1][\"year\"] <= maxYear):\n",
    "          for l in G.neighbors(node[0]):\n",
    "              if(l not in actorMinYearDict or node[1][\"year\"] < actorMinYearDict.get(l)):\n",
    "                  actorMinYearDict.update({l : node[1][\"year\"]})\n",
    "  for node in G.nodes().data():\n",
    "      if (node[1][\"type\"] == 1 and node[1][\"year\"] != \"Not found\" and node[1][\"year\"] <= maxYear):\n",
    "          for l in G.neighbors(node[0]):\n",
    "              if(l not in actorMaxYearDict or node[1][\"year\"] > actorMaxYearDict.get(l)):\n",
    "                  actorMaxYearDict.update({l : node[1][\"year\"]})\n",
    "  maxWorkPeriod = 0\n",
    "  actorMax = None\n",
    "  for a in actorMinYearDict.items():\n",
    "      if maxWorkPeriod < (actorMaxYearDict.get(a[0]) - actorMinYearDict.get(a[0])):\n",
    "          actorMax = a[0]\n",
    "          maxWorkPeriod = actorMaxYearDict.get(a[0]) - actorMinYearDict.get(a[0])\n",
    "  \n",
    "  print(\"L'attore che ha lavorato di più fino al \"+str(maxYear)+\" è: \")\n",
    "  print(str(idActorDict[actorMax])+\" con un periodo di attività di: \"+str(maxWorkPeriod)+\" anni\")\n",
    "  print()\n",
    "\n",
    "def computeAllLongevousActor():\n",
    "    for x in range (1930, 2030, 10):\n",
    "        computeLongevousActor(x)"
   ]
  },
  {
   "attachments": {},
   "cell_type": "markdown",
   "metadata": {},
   "source": [
    "### Es 2.1"
   ]
  },
  {
   "cell_type": "code",
   "execution_count": null,
   "metadata": {},
   "outputs": [],
   "source": [
    "def generateSubGraphGCC(G, maxYear):\n",
    "    SG = G.subgraph([n for n, a in G.nodes().data() if a[\"type\"] == 0 or (a[\"year\"] != \"Not found\" and a[\"year\"] < maxYear)])\n",
    "    tempLCC = max(nx.connected_components(SG), key=len)\n",
    "    #tempLCC = sorted(nx.connected_components(SG), key=len, reverse=True)[0]\n",
    "    print(\"a\")\n",
    "    LCC = SG.subgraph(tempLCC)\n",
    "    degreeDict = dict(LCC.degree())\n",
    "    m = max(degreeDict.values())\n",
    "    #startNode = [k for k, v in degreeDict.items() if v == m][0]\n",
    "    startNode = max(LCC.degree,key=lambda x: x[1])[0]\n",
    "    print(startNode)\n",
    "    Bu = customBFS(LCC, startNode)\n",
    "    computeDiameter(LCC, Bu)\n",
    "\n",
    "def customBFS(LCC, startNode):\n",
    "    visited = {}\n",
    "    queue = Queue()\n",
    "    queue.put(startNode)\n",
    "    visited[startNode] = 0\n",
    "    while not queue.empty():\n",
    "        currentNode = queue.get()\n",
    "        for nextNode in LCC.neighbors(currentNode):\n",
    "            if nextNode not in visited:\n",
    "                queue.put(nextNode)\n",
    "                visited[nextNode]=visited[currentNode]+1\n",
    "    Bu = defaultdict(list)\n",
    "    for key, value in visited.items():\n",
    "        Bu[value].append(key)\n",
    "    return Bu\n",
    "\n",
    "def computeDiameter(LCC, Bu):\n",
    "    i = lb = max(Bu)\n",
    "    ub = 2*lb\n",
    "    while ub > lb:\n",
    "        eccDict = nx.eccentricity(LCC, Bu[i])\n",
    "        Bi = max(eccDict.values())\n",
    "        maxVal = max(Bi,lb)\n",
    "        if maxVal > 2*(i - 1):\n",
    "            print(\"diametro: \", maxVal)\n",
    "            return maxVal\n",
    "        else: \n",
    "            lb = maxVal\n",
    "            ub = 2*(i - 1) \n",
    "        i = i - 1 \n",
    "    print(\"diametro: \", lb)\n",
    "    return lb\n",
    "\n",
    "generateSubGraphGCC(G, 1950)\n",
    "\n",
    "\"\"\" for x in range (1930, 2030, 10):\n",
    "    generateSubGraphGCC(G, x) \"\"\"\n"
   ]
  },
  {
   "attachments": {},
   "cell_type": "markdown",
   "metadata": {},
   "source": [
    "### Es 3.I"
   ]
  },
  {
   "cell_type": "code",
   "execution_count": null,
   "metadata": {},
   "outputs": [],
   "source": [
    "def maxCollab(G):\n",
    "    collaborations = {}\n",
    "    for n, a in G.nodes().data():\n",
    "        if a[\"type\"] == 0:\n",
    "            c = 0\n",
    "            for nb in G.neighbors(n):\n",
    "                c += (len(G.adj[nb])-1)\n",
    "            collaborations.update({a[\"name\"]: c})\n",
    "    m = max(list(collaborations.values()))\n",
    "    print(m)\n",
    "    print([k for k, v in collaborations.items() if v == m][0])\n",
    "    \n",
    "maxCollab(G)"
   ]
  },
  {
   "attachments": {},
   "cell_type": "markdown",
   "metadata": {},
   "source": [
    "### Es 4"
   ]
  },
  {
   "cell_type": "code",
   "execution_count": null,
   "metadata": {},
   "outputs": [],
   "source": [
    "#cella di prova\n",
    "for k1, v1 in edgesDict.copy().items():\n",
    "    for k2, v2 in edgesDict.copy().items():\n",
    "        if v2[\"Movie\"] == v1[\"Movie\"] and v1[\"Actor\"] != v2[\"Actor\"]:\n",
    "            A.add_edge(v1[\"Actor\"], v2[\"Actor\"])\n",
    "            edgesDict.pop(k2)\n",
    "    edgesDict.pop(k1)\n",
    "\n",
    "    #A.add_edges_from([(v1[\"Actor\"], v2[\"Actor\"]) for k2, v2 in edgesDict.items() if v1[\"Actor\"] != v2[\"Actor\"] and v2[\"Movie\"] == v1[\"Movie\"]])\n",
    "\n",
    "print(A.nodes.data())\n",
    "print(A.edges.data())"
   ]
  },
  {
   "cell_type": "code",
   "execution_count": null,
   "metadata": {},
   "outputs": [],
   "source": [
    "A = nx.Graph()\n",
    "for i in idMovieDict:\n",
    "    actors = list(G.neighbors(i))\n",
    "    for j in combinations(actors, 2):\n",
    "        if A.has_edge(*j):\n",
    "            A[j[0]][j[1]]['weight'] += 1\n",
    "        else:\n",
    "            A.add_edge(j[0],j[1], weight = 1)\n",
    "\n",
    "print(A.nodes.data())\n",
    "print(A.edges.data())"
   ]
  },
  {
   "cell_type": "code",
   "execution_count": null,
   "metadata": {},
   "outputs": [],
   "source": [
    "n1, n2, w = max(A.edges().data(\"weight\"), key = lambda x: x[2])\n",
    "print((idActorDict[n1], idActorDict[n2]))\n",
    "print(w)"
   ]
  },
  {
   "attachments": {},
   "cell_type": "markdown",
   "metadata": {},
   "source": [
    "### celle per prove"
   ]
  },
  {
   "cell_type": "code",
   "execution_count": null,
   "metadata": {},
   "outputs": [],
   "source": [
    "diz = {0: \"a 1900 (aaa2000/I)\", 1: \"b 1920\"}\n",
    "x = re.search(\".*\\(.*(\\d\\d\\d\\d).*\\)\", diz[0]).group(1)\n",
    "print(type(x))\n",
    "for k, v in diz.items():\n",
    "    print(k)\n",
    "    print(v)"
   ]
  }
 ],
 "metadata": {
  "kernelspec": {
   "display_name": "Python 3",
   "language": "python",
   "name": "python3"
  },
  "language_info": {
   "codemirror_mode": {
    "name": "ipython",
    "version": 3
   },
   "file_extension": ".py",
   "mimetype": "text/x-python",
   "name": "python",
   "nbconvert_exporter": "python",
   "pygments_lexer": "ipython3",
   "version": "3.10.0 (tags/v3.10.0:b494f59, Oct  4 2021, 19:00:18) [MSC v.1929 64 bit (AMD64)]"
  },
  "orig_nbformat": 4,
  "vscode": {
   "interpreter": {
    "hash": "9bd63d4d0e53dd854605697514204d0a3a6bfb81f118d4d4374019a86f3401eb"
   }
  }
 },
 "nbformat": 4,
 "nbformat_minor": 2
}
